{
  "nbformat": 4,
  "nbformat_minor": 0,
  "metadata": {
    "colab": {
      "provenance": []
    },
    "kernelspec": {
      "name": "python3",
      "display_name": "Python 3"
    },
    "language_info": {
      "name": "python"
    }
  },
  "cells": [
    {
      "cell_type": "markdown",
      "source": [
        "**IMDB**"
      ],
      "metadata": {
        "id": "V-EfPyXmmvXB"
      }
    },
    {
      "cell_type": "code",
      "execution_count": 1,
      "metadata": {
        "id": "1Rzq-Hdajo0D"
      },
      "outputs": [],
      "source": [
        "import nltk"
      ]
    },
    {
      "cell_type": "code",
      "source": [
        "nltk.download(\"movie_reviews\")"
      ],
      "metadata": {
        "colab": {
          "base_uri": "https://localhost:8080/"
        },
        "id": "LDShTcjRm7gI",
        "outputId": "f64ddc50-352d-4964-a1a7-10214e6b3da1"
      },
      "execution_count": 2,
      "outputs": [
        {
          "output_type": "stream",
          "name": "stderr",
          "text": [
            "[nltk_data] Downloading package movie_reviews to /root/nltk_data...\n",
            "[nltk_data]   Unzipping corpora/movie_reviews.zip.\n"
          ]
        },
        {
          "output_type": "execute_result",
          "data": {
            "text/plain": [
              "True"
            ]
          },
          "metadata": {},
          "execution_count": 2
        }
      ]
    },
    {
      "cell_type": "code",
      "source": [
        "from nltk.corpus import movie_reviews"
      ],
      "metadata": {
        "id": "8Lek9LD0nEwJ"
      },
      "execution_count": 3,
      "outputs": []
    },
    {
      "cell_type": "code",
      "source": [
        "len(movie_reviews.fileids())"
      ],
      "metadata": {
        "colab": {
          "base_uri": "https://localhost:8080/"
        },
        "id": "dWtei3ADnZuR",
        "outputId": "192f6019-6dff-4e93-8845-ec4d6db6de96"
      },
      "execution_count": 4,
      "outputs": [
        {
          "output_type": "execute_result",
          "data": {
            "text/plain": [
              "2000"
            ]
          },
          "metadata": {},
          "execution_count": 4
        }
      ]
    },
    {
      "cell_type": "code",
      "source": [
        "movie_reviews.fileids()[:5]"
      ],
      "metadata": {
        "colab": {
          "base_uri": "https://localhost:8080/"
        },
        "id": "qqLzbGPJngHI",
        "outputId": "32decaac-a46f-4b29-9b17-f6a6e3b141f2"
      },
      "execution_count": 5,
      "outputs": [
        {
          "output_type": "execute_result",
          "data": {
            "text/plain": [
              "['neg/cv000_29416.txt',\n",
              " 'neg/cv001_19502.txt',\n",
              " 'neg/cv002_17424.txt',\n",
              " 'neg/cv003_12683.txt',\n",
              " 'neg/cv004_12641.txt']"
            ]
          },
          "metadata": {},
          "execution_count": 5
        }
      ]
    },
    {
      "cell_type": "code",
      "source": [
        "movie_reviews.fileids()[-5:]"
      ],
      "metadata": {
        "colab": {
          "base_uri": "https://localhost:8080/"
        },
        "id": "fTeTIkG5nzkB",
        "outputId": "065bb8aa-a1df-4fed-d610-acfc0475e908"
      },
      "execution_count": 6,
      "outputs": [
        {
          "output_type": "execute_result",
          "data": {
            "text/plain": [
              "['pos/cv995_21821.txt',\n",
              " 'pos/cv996_11592.txt',\n",
              " 'pos/cv997_5046.txt',\n",
              " 'pos/cv998_14111.txt',\n",
              " 'pos/cv999_13106.txt']"
            ]
          },
          "metadata": {},
          "execution_count": 6
        }
      ]
    },
    {
      "cell_type": "code",
      "source": [
        "negative_fileids=movie_reviews.fileids('neg')\n",
        "positive_fileids=movie_reviews.fileids('pos')"
      ],
      "metadata": {
        "id": "-PQx9z9ln7hn"
      },
      "execution_count": 7,
      "outputs": []
    },
    {
      "cell_type": "code",
      "source": [
        "len(negative_fileids), len(positive_fileids)"
      ],
      "metadata": {
        "colab": {
          "base_uri": "https://localhost:8080/"
        },
        "id": "HOpUplosofVw",
        "outputId": "90aa3096-2e38-40c9-9b74-c3fd82c6a9f6"
      },
      "execution_count": 8,
      "outputs": [
        {
          "output_type": "execute_result",
          "data": {
            "text/plain": [
              "(1000, 1000)"
            ]
          },
          "metadata": {},
          "execution_count": 8
        }
      ]
    },
    {
      "cell_type": "code",
      "source": [
        "print(movie_reviews.raw(fileids=positive_fileids[0]))"
      ],
      "metadata": {
        "colab": {
          "base_uri": "https://localhost:8080/"
        },
        "id": "D2zPYdECoqUp",
        "outputId": "d83b8217-055b-4f89-949a-12370e81a794"
      },
      "execution_count": 14,
      "outputs": [
        {
          "output_type": "stream",
          "name": "stdout",
          "text": [
            "films adapted from comic books have had plenty of success , whether they're about superheroes ( batman , superman , spawn ) , or geared toward kids ( casper ) or the arthouse crowd ( ghost world ) , but there's never really been a comic book like from hell before . \n",
            "for starters , it was created by alan moore ( and eddie campbell ) , who brought the medium to a whole new level in the mid '80s with a 12-part series called the watchmen . \n",
            "to say moore and campbell thoroughly researched the subject of jack the ripper would be like saying michael jackson is starting to look a little odd . \n",
            "the book ( or \" graphic novel , \" if you will ) is over 500 pages long and includes nearly 30 more that consist of nothing but footnotes . \n",
            "in other words , don't dismiss this film because of its source . \n",
            "if you can get past the whole comic book thing , you might find another stumbling block in from hell's directors , albert and allen hughes . \n",
            "getting the hughes brothers to direct this seems almost as ludicrous as casting carrot top in , well , anything , but riddle me this : who better to direct a film that's set in the ghetto and features really violent street crime than the mad geniuses behind menace ii society ? \n",
            "the ghetto in question is , of course , whitechapel in 1888 london's east end . \n",
            "it's a filthy , sooty place where the whores ( called \" unfortunates \" ) are starting to get a little nervous about this mysterious psychopath who has been carving through their profession with surgical precision . \n",
            "when the first stiff turns up , copper peter godley ( robbie coltrane , the world is not enough ) calls in inspector frederick abberline ( johnny depp , blow ) to crack the case . \n",
            "abberline , a widower , has prophetic dreams he unsuccessfully tries to quell with copious amounts of absinthe and opium . \n",
            "upon arriving in whitechapel , he befriends an unfortunate named mary kelly ( heather graham , say it isn't so ) and proceeds to investigate the horribly gruesome crimes that even the police surgeon can't stomach . \n",
            "i don't think anyone needs to be briefed on jack the ripper , so i won't go into the particulars here , other than to say moore and campbell have a unique and interesting theory about both the identity of the killer and the reasons he chooses to slay . \n",
            "in the comic , they don't bother cloaking the identity of the ripper , but screenwriters terry hayes ( vertical limit ) and rafael yglesias ( les mis ? rables ) do a good job of keeping him hidden from viewers until the very end . \n",
            "it's funny to watch the locals blindly point the finger of blame at jews and indians because , after all , an englishman could never be capable of committing such ghastly acts . \n",
            "and from hell's ending had me whistling the stonecutters song from the simpsons for days ( \" who holds back the electric car/who made steve guttenberg a star ? \" ) . \n",
            "don't worry - it'll all make sense when you see it . \n",
            "now onto from hell's appearance : it's certainly dark and bleak enough , and it's surprising to see how much more it looks like a tim burton film than planet of the apes did ( at times , it seems like sleepy hollow 2 ) . \n",
            "the print i saw wasn't completely finished ( both color and music had not been finalized , so no comments about marilyn manson ) , but cinematographer peter deming ( don't say a word ) ably captures the dreariness of victorian-era london and helped make the flashy killing scenes remind me of the crazy flashbacks in twin peaks , even though the violence in the film pales in comparison to that in the black-and-white comic . \n",
            "oscar winner martin childs' ( shakespeare in love ) production design turns the original prague surroundings into one creepy place . \n",
            "even the acting in from hell is solid , with the dreamy depp turning in a typically strong performance and deftly handling a british accent . \n",
            "ians holm ( joe gould's secret ) and richardson ( 102 dalmatians ) log in great supporting roles , but the big surprise here is graham . \n",
            "i cringed the first time she opened her mouth , imagining her attempt at an irish accent , but it actually wasn't half bad . \n",
            "the film , however , is all good . \n",
            "2 : 00 - r for strong violence/gore , sexuality , language and drug content \n",
            "\n"
          ]
        }
      ]
    },
    {
      "cell_type": "code",
      "source": [
        "movie_reviews.words(fileids=positive_fileids[0])"
      ],
      "metadata": {
        "colab": {
          "base_uri": "https://localhost:8080/"
        },
        "id": "DJtEoHJjpecF",
        "outputId": "2a9789c7-4e11-4b14-96f9-b024895e5d6f"
      },
      "execution_count": 13,
      "outputs": [
        {
          "output_type": "execute_result",
          "data": {
            "text/plain": [
              "['films', 'adapted', 'from', 'comic', 'books', 'have', ...]"
            ]
          },
          "metadata": {},
          "execution_count": 13
        }
      ]
    },
    {
      "cell_type": "code",
      "source": [
        "def build_bag_of_words_features(words):\n",
        "    return {word: True for word in words}"
      ],
      "metadata": {
        "id": "CvDehsCFqhy4"
      },
      "execution_count": 15,
      "outputs": []
    },
    {
      "cell_type": "code",
      "source": [
        "nltk.download('stopwords')"
      ],
      "metadata": {
        "colab": {
          "base_uri": "https://localhost:8080/"
        },
        "id": "ylg5nKCtqrM6",
        "outputId": "07b2ad9b-9a0e-4787-d618-2e6bb75e1cfb"
      },
      "execution_count": 16,
      "outputs": [
        {
          "output_type": "stream",
          "name": "stderr",
          "text": [
            "[nltk_data] Downloading package stopwords to /root/nltk_data...\n",
            "[nltk_data]   Unzipping corpora/stopwords.zip.\n"
          ]
        },
        {
          "output_type": "execute_result",
          "data": {
            "text/plain": [
              "True"
            ]
          },
          "metadata": {},
          "execution_count": 16
        }
      ]
    },
    {
      "cell_type": "code",
      "source": [
        "import string"
      ],
      "metadata": {
        "id": "mlg466IBqu_Q"
      },
      "execution_count": 17,
      "outputs": []
    },
    {
      "cell_type": "code",
      "source": [
        "string.punctuation"
      ],
      "metadata": {
        "colab": {
          "base_uri": "https://localhost:8080/",
          "height": 36
        },
        "id": "XfOaGuT2qys3",
        "outputId": "69eacf76-d220-4dec-9530-36ec0397dd0d"
      },
      "execution_count": 18,
      "outputs": [
        {
          "output_type": "execute_result",
          "data": {
            "text/plain": [
              "'!\"#$%&\\'()*+,-./:;<=>?@[\\\\]^_`{|}~'"
            ],
            "application/vnd.google.colaboratory.intrinsic+json": {
              "type": "string"
            }
          },
          "metadata": {},
          "execution_count": 18
        }
      ]
    },
    {
      "cell_type": "code",
      "source": [
        "useless_words=nltk.corpus.stopwords.words(\"english\")+ list(string.punctuation)"
      ],
      "metadata": {
        "id": "UZWdR6IIq5YR"
      },
      "execution_count": 19,
      "outputs": []
    },
    {
      "cell_type": "code",
      "source": [
        "type(useless_words)"
      ],
      "metadata": {
        "colab": {
          "base_uri": "https://localhost:8080/"
        },
        "id": "RdWyf5QRvKgW",
        "outputId": "3af5d392-bc20-4fce-d9e9-5e5a1d80b57d"
      },
      "execution_count": 20,
      "outputs": [
        {
          "output_type": "execute_result",
          "data": {
            "text/plain": [
              "list"
            ]
          },
          "metadata": {},
          "execution_count": 20
        }
      ]
    },
    {
      "cell_type": "code",
      "source": [
        "useless_words"
      ],
      "metadata": {
        "colab": {
          "base_uri": "https://localhost:8080/"
        },
        "id": "AyTns1g5vNcW",
        "outputId": "cc47c1c4-6cd0-43d2-c2ea-f2c85f65b0f7"
      },
      "execution_count": 21,
      "outputs": [
        {
          "output_type": "execute_result",
          "data": {
            "text/plain": [
              "['i',\n",
              " 'me',\n",
              " 'my',\n",
              " 'myself',\n",
              " 'we',\n",
              " 'our',\n",
              " 'ours',\n",
              " 'ourselves',\n",
              " 'you',\n",
              " \"you're\",\n",
              " \"you've\",\n",
              " \"you'll\",\n",
              " \"you'd\",\n",
              " 'your',\n",
              " 'yours',\n",
              " 'yourself',\n",
              " 'yourselves',\n",
              " 'he',\n",
              " 'him',\n",
              " 'his',\n",
              " 'himself',\n",
              " 'she',\n",
              " \"she's\",\n",
              " 'her',\n",
              " 'hers',\n",
              " 'herself',\n",
              " 'it',\n",
              " \"it's\",\n",
              " 'its',\n",
              " 'itself',\n",
              " 'they',\n",
              " 'them',\n",
              " 'their',\n",
              " 'theirs',\n",
              " 'themselves',\n",
              " 'what',\n",
              " 'which',\n",
              " 'who',\n",
              " 'whom',\n",
              " 'this',\n",
              " 'that',\n",
              " \"that'll\",\n",
              " 'these',\n",
              " 'those',\n",
              " 'am',\n",
              " 'is',\n",
              " 'are',\n",
              " 'was',\n",
              " 'were',\n",
              " 'be',\n",
              " 'been',\n",
              " 'being',\n",
              " 'have',\n",
              " 'has',\n",
              " 'had',\n",
              " 'having',\n",
              " 'do',\n",
              " 'does',\n",
              " 'did',\n",
              " 'doing',\n",
              " 'a',\n",
              " 'an',\n",
              " 'the',\n",
              " 'and',\n",
              " 'but',\n",
              " 'if',\n",
              " 'or',\n",
              " 'because',\n",
              " 'as',\n",
              " 'until',\n",
              " 'while',\n",
              " 'of',\n",
              " 'at',\n",
              " 'by',\n",
              " 'for',\n",
              " 'with',\n",
              " 'about',\n",
              " 'against',\n",
              " 'between',\n",
              " 'into',\n",
              " 'through',\n",
              " 'during',\n",
              " 'before',\n",
              " 'after',\n",
              " 'above',\n",
              " 'below',\n",
              " 'to',\n",
              " 'from',\n",
              " 'up',\n",
              " 'down',\n",
              " 'in',\n",
              " 'out',\n",
              " 'on',\n",
              " 'off',\n",
              " 'over',\n",
              " 'under',\n",
              " 'again',\n",
              " 'further',\n",
              " 'then',\n",
              " 'once',\n",
              " 'here',\n",
              " 'there',\n",
              " 'when',\n",
              " 'where',\n",
              " 'why',\n",
              " 'how',\n",
              " 'all',\n",
              " 'any',\n",
              " 'both',\n",
              " 'each',\n",
              " 'few',\n",
              " 'more',\n",
              " 'most',\n",
              " 'other',\n",
              " 'some',\n",
              " 'such',\n",
              " 'no',\n",
              " 'nor',\n",
              " 'not',\n",
              " 'only',\n",
              " 'own',\n",
              " 'same',\n",
              " 'so',\n",
              " 'than',\n",
              " 'too',\n",
              " 'very',\n",
              " 's',\n",
              " 't',\n",
              " 'can',\n",
              " 'will',\n",
              " 'just',\n",
              " 'don',\n",
              " \"don't\",\n",
              " 'should',\n",
              " \"should've\",\n",
              " 'now',\n",
              " 'd',\n",
              " 'll',\n",
              " 'm',\n",
              " 'o',\n",
              " 're',\n",
              " 've',\n",
              " 'y',\n",
              " 'ain',\n",
              " 'aren',\n",
              " \"aren't\",\n",
              " 'couldn',\n",
              " \"couldn't\",\n",
              " 'didn',\n",
              " \"didn't\",\n",
              " 'doesn',\n",
              " \"doesn't\",\n",
              " 'hadn',\n",
              " \"hadn't\",\n",
              " 'hasn',\n",
              " \"hasn't\",\n",
              " 'haven',\n",
              " \"haven't\",\n",
              " 'isn',\n",
              " \"isn't\",\n",
              " 'ma',\n",
              " 'mightn',\n",
              " \"mightn't\",\n",
              " 'mustn',\n",
              " \"mustn't\",\n",
              " 'needn',\n",
              " \"needn't\",\n",
              " 'shan',\n",
              " \"shan't\",\n",
              " 'shouldn',\n",
              " \"shouldn't\",\n",
              " 'wasn',\n",
              " \"wasn't\",\n",
              " 'weren',\n",
              " \"weren't\",\n",
              " 'won',\n",
              " \"won't\",\n",
              " 'wouldn',\n",
              " \"wouldn't\",\n",
              " '!',\n",
              " '\"',\n",
              " '#',\n",
              " '$',\n",
              " '%',\n",
              " '&',\n",
              " \"'\",\n",
              " '(',\n",
              " ')',\n",
              " '*',\n",
              " '+',\n",
              " ',',\n",
              " '-',\n",
              " '.',\n",
              " '/',\n",
              " ':',\n",
              " ';',\n",
              " '<',\n",
              " '=',\n",
              " '>',\n",
              " '?',\n",
              " '@',\n",
              " '[',\n",
              " '\\\\',\n",
              " ']',\n",
              " '^',\n",
              " '_',\n",
              " '`',\n",
              " '{',\n",
              " '|',\n",
              " '}',\n",
              " '~']"
            ]
          },
          "metadata": {},
          "execution_count": 21
        }
      ]
    },
    {
      "cell_type": "code",
      "source": [
        "def build_bag_of_words_features_filtered(words):\n",
        "    return {word: True for word in words\\\n",
        "           if not word in useless_words }"
      ],
      "metadata": {
        "id": "Elpu9MaFvaUT"
      },
      "execution_count": 22,
      "outputs": []
    },
    {
      "cell_type": "code",
      "source": [
        "allwords=movie_reviews.words()\n",
        "len(allwords)/1e6"
      ],
      "metadata": {
        "colab": {
          "base_uri": "https://localhost:8080/"
        },
        "id": "D4Bm30W0vrk7",
        "outputId": "ddc9fbaa-51f6-44b4-a7a1-840232cd04d2"
      },
      "execution_count": 23,
      "outputs": [
        {
          "output_type": "execute_result",
          "data": {
            "text/plain": [
              "1.58382"
            ]
          },
          "metadata": {},
          "execution_count": 23
        }
      ]
    },
    {
      "cell_type": "code",
      "source": [
        "filtered_words=[word for word in movie_reviews.words() if not word in useless_words]"
      ],
      "metadata": {
        "id": "lgSkRMmpv95P"
      },
      "execution_count": 24,
      "outputs": []
    },
    {
      "cell_type": "code",
      "source": [
        "type(filtered_words)"
      ],
      "metadata": {
        "colab": {
          "base_uri": "https://localhost:8080/"
        },
        "id": "VeSJOXznwjQr",
        "outputId": "2c264f4b-a53a-40c6-ec2a-b85cc66fa2cb"
      },
      "execution_count": 25,
      "outputs": [
        {
          "output_type": "execute_result",
          "data": {
            "text/plain": [
              "list"
            ]
          },
          "metadata": {},
          "execution_count": 25
        }
      ]
    },
    {
      "cell_type": "code",
      "source": [
        "len(filtered_words)/1e6"
      ],
      "metadata": {
        "colab": {
          "base_uri": "https://localhost:8080/"
        },
        "id": "Cmf_BAFTwmPr",
        "outputId": "0d186004-8fee-4d22-81b5-148901f6c0da"
      },
      "execution_count": 26,
      "outputs": [
        {
          "output_type": "execute_result",
          "data": {
            "text/plain": [
              "0.710579"
            ]
          },
          "metadata": {},
          "execution_count": 26
        }
      ]
    },
    {
      "cell_type": "code",
      "source": [
        "from collections import Counter\n",
        "word_counter = Counter(filtered_words)"
      ],
      "metadata": {
        "id": "EkoH4VL5wuQp"
      },
      "execution_count": 28,
      "outputs": []
    },
    {
      "cell_type": "code",
      "source": [
        "most_common_words=word_counter.most_common()[:10]"
      ],
      "metadata": {
        "id": "9kRWjEA8w562"
      },
      "execution_count": 31,
      "outputs": []
    },
    {
      "cell_type": "code",
      "source": [
        "most_common_words"
      ],
      "metadata": {
        "colab": {
          "base_uri": "https://localhost:8080/"
        },
        "id": "VWWsafjGxOIv",
        "outputId": "e158aa7b-6c0b-428b-a911-0807ede9b376"
      },
      "execution_count": 32,
      "outputs": [
        {
          "output_type": "execute_result",
          "data": {
            "text/plain": [
              "[('film', 9517),\n",
              " ('one', 5852),\n",
              " ('movie', 5771),\n",
              " ('like', 3690),\n",
              " ('even', 2565),\n",
              " ('good', 2411),\n",
              " ('time', 2411),\n",
              " ('story', 2169),\n",
              " ('would', 2109),\n",
              " ('much', 2049)]"
            ]
          },
          "metadata": {},
          "execution_count": 32
        }
      ]
    },
    {
      "cell_type": "code",
      "source": [
        "negative_features=[(build_bag_of_words_features(movie_reviews.words(fileids=[f])),'neg')\\\n",
        "                  for f in negative_fileids]"
      ],
      "metadata": {
        "id": "9FNWOWnpxQ9o"
      },
      "execution_count": 36,
      "outputs": []
    },
    {
      "cell_type": "code",
      "source": [
        "print(negative_features[2])"
      ],
      "metadata": {
        "colab": {
          "base_uri": "https://localhost:8080/"
        },
        "id": "YjAK6jO3yquo",
        "outputId": "a16f6e4f-c239-41a5-ac36-4af0858ca023"
      },
      "execution_count": 37,
      "outputs": [
        {
          "output_type": "stream",
          "name": "stdout",
          "text": [
            "({'it': True, 'is': True, 'movies': True, 'like': True, 'these': True, 'that': True, 'make': True, 'a': True, 'jaded': True, 'movie': True, 'viewer': True, 'thankful': True, 'for': True, 'the': True, 'invention': True, 'of': True, 'timex': True, 'indiglo': True, 'watch': True, '.': True, 'based': True, 'on': True, 'late': True, '1960': True, \"'\": True, 's': True, 'television': True, 'show': True, 'by': True, 'same': True, 'name': True, ',': True, 'mod': True, 'squad': True, 'tells': True, 'tale': True, 'three': True, 'reformed': True, 'criminals': True, 'under': True, 'employ': True, 'police': True, 'to': True, 'go': True, 'undercover': True, 'however': True, 'things': True, 'wrong': True, 'as': True, 'evidence': True, 'gets': True, 'stolen': True, 'and': True, 'they': True, 'are': True, 'immediately': True, 'suspicion': True, 'course': True, 'ads': True, 'seem': True, 'so': True, 'much': True, 'more': True, 'quick': True, 'cuts': True, 'cool': True, 'music': True, 'claire': True, 'dane': True, 'nice': True, 'hair': True, 'cute': True, 'outfits': True, 'car': True, 'chases': True, 'stuff': True, 'blowing': True, 'up': True, 'sounds': True, 'does': True, 'not': True, '?': True, 'after': True, 'first': True, 'fifteen': True, 'minutes': True, 'quickly': True, 'becomes': True, 'apparent': True, 'certainly': True, 'slick': True, 'looking': True, 'production': True, 'complete': True, 'with': True, 'costumes': True, 'but': True, 'simply': True, 'isn': True, 't': True, 'enough': True, 'film': True, 'best': True, 'described': True, 'cross': True, 'between': True, 'an': True, 'hour': True, '-': True, 'long': True, 'cop': True, 'video': True, 'both': True, 'stretched': True, 'out': True, 'into': True, 'span': True, 'half': True, 'comes': True, 'every': True, 'single': True, 'clich': True, 'doesn': True, 'really': True, 'matter': True, 'most': True, 'plot': True, 'elements': True, 'have': True, 'been': True, 'recycled': True, 'from': True, 'everything': True, 'we': True, 've': True, 'already': True, 'seen': True, 'characters': True, 'acting': True, 'nothing': True, 'spectacular': True, 'sometimes': True, 'even': True, 'bordering': True, 'wooden': True, 'danes': True, 'omar': True, 'epps': True, 'deliver': True, 'their': True, 'lines': True, 'if': True, 'bored': True, 'which': True, 'transfers': True, 'onto': True, 'audience': True, 'only': True, 'one': True, 'escape': True, 'relatively': True, 'unscathed': True, 'giovanni': True, 'ribisi': True, 'who': True, 'plays': True, 'resident': True, 'crazy': True, 'man': True, 'ultimately': True, 'being': True, 'thing': True, 'worth': True, 'watching': True, 'unfortunately': True, 'he': True, 'save': True, 'this': True, 'convoluted': True, 'mess': True, 'all': True, 'don': True, 'do': True, 'apart': True, 'occupying': True, 'screen': True, 'time': True, 'young': True, 'cast': True, 'clothes': True, 'hip': True, 'soundtrack': True, 'appears': True, 'geared': True, 'towards': True, 'teenage': True, 'mindset': True, 'despite': True, 'american': True, 'r': True, 'rating': True, '(': True, 'content': True, 'justify': True, ')': True, 'way': True, 'too': True, 'juvenile': True, 'older': True, 'information': True, 'literally': True, 'spoon': True, 'fed': True, 'would': True, 'be': True, 'hard': True, 'us': True, 'instead': True, 'telling': True, 'dialogue': True, 'poorly': True, 'written': True, 'extremely': True, 'predictable': True, 'progresses': True, 'you': True, 'likely': True, 'won': True, 'care': True, 'heroes': True, 'in': True, 'any': True, 'jeopardy': True, 'because': True, 'll': True, 'know': True, 'aren': True, 'basing': True, 'nobody': True, 'remembers': True, 'questionable': True, 'wisdom': True, 'especially': True, 'when': True, 'considers': True, 'target': True, 'fact': True, 'number': True, 'memorable': True, 'films': True, 'shows': True, 'can': True, 'counted': True, 'hand': True, 'missing': True, 'finger': True, 'or': True, 'two': True, 'times': True, 'i': True, 'checked': True, 'my': True, 'six': True, 'clear': True, 'indication': True, 'them': True, 'than': True, 'attempt': True, 'cash': True, 'spending': True, 'dollar': True, 'judging': True, 'rash': True, 'awful': True, 'teen': True, 'flicks': True, 'seeing': True, 'avoid': True, 'at': True, 'costs': True}, 'neg')\n"
          ]
        }
      ]
    },
    {
      "cell_type": "code",
      "source": [
        "positive_features = [(build_bag_of_words_features_filtered(movie_reviews.words(fileids=[f])), 'pos')\\\n",
        "                     for f in positive_fileids]"
      ],
      "metadata": {
        "id": "VqxQr5W_y1eL"
      },
      "execution_count": 38,
      "outputs": []
    },
    {
      "cell_type": "code",
      "source": [
        "print(positive_features[5])"
      ],
      "metadata": {
        "colab": {
          "base_uri": "https://localhost:8080/"
        },
        "id": "z-1YrwKFy89H",
        "outputId": "e952c132-e263-4a16-88f3-a537e4a3fb76"
      },
      "execution_count": 39,
      "outputs": [
        {
          "output_type": "stream",
          "name": "stdout",
          "text": [
            "({'june': True, '30': True, '1960': True, 'self': True, 'taught': True, 'idealistic': True, 'yet': True, 'pragmatic': True, 'young': True, 'man': True, 'became': True, 'age': True, '36': True, 'first': True, 'head': True, 'government': True, 'newly': True, 'independent': True, 'african': True, 'state': True, 'formerly': True, 'belgian': True, 'congo': True, 'two': True, 'months': True, 'later': True, 'ousted': True, 'powerful': True, 'position': True, 'hunted': True, 'troops': True, 'captured': True, 'brutally': True, 'murdered': True, 'along': True, 'aides': True, 'little': True, 'known': True, 'story': True, 'meteoric': True, 'rise': True, 'fall': True, 'told': True, 'international': True, 'filmmaker': True, 'raoul': True, 'peck': True, 'lumumba': True, 'patrice': True, 'eriq': True, 'ebouaney': True, 'previously': True, 'helmer': True, '1991': True, 'award': True, 'winning': True, 'documentary': True, 'death': True, 'prophet': True, 'virtually': True, 'guaranteeing': True, 'new': True, 'fictional': True, 'account': True, 'patriot': True, 'remains': True, 'true': True, 'subject': True, 'co': True, 'writer': True, 'pascal': True, 'bonitzer': True, 'begins': True, 'end': True, 'political': True, 'leader': True, 'watch': True, 'white': True, 'men': True, 'perform': True, 'gruesome': True, 'task': True, 'dismembering': True, 'bodies': True, 'three': True, 'black': True, 'images': True, 'hatchets': True, 'saws': True, 'fast': True, 'emptying': True, 'whiskey': True, 'bottles': True, 'accompany': True, 'grisly': True, 'image': True, 'jump': True, 'back': True, 'years': True, 'meeting': True, 'among': True, 'leaders': True, 'owned': True, 'third': True, 'class': True, 'postal': True, 'worker': True, 'speaks': True, 'mind': True, 'heads': True, 'tribes': True, 'proclaiming': True, 'tribal': True, 'regional': True, 'national': True, 'small': True, 'mobile': True, 'party': True, 'congolese': True, 'movement': True, 'mnc': True, 'gaining': True, 'prominence': True, 'leaves': True, 'clerical': True, 'job': True, 'sell': True, 'beer': True, 'get': True, 'face': True, 'bustling': True, 'capital': True, 'stanleyville': True, 'time': True, 'colonial': True, 'empires': True, 'falling': True, 'around': True, 'world': True, 'right': True, 'place': True, 'savvy': True, 'chess': True, 'like': True, 'manipulation': True, 'achieves': True, 'leadership': True, 'date': True, 'independence': True, 'approaches': True, 'tactically': True, 'positions': True, 'nation': True, 'prime': True, 'minister': True, 'defense': True, 'supporting': True, 'presidency': True, 'joseph': True, 'kasa': True, 'vubu': True, 'maka': True, 'kotto': True, 'coalition': True, 'created': True, 'soon': True, 'starts': True, 'apart': True, 'former': True, 'masters': True, 'continue': True, 'exert': True, 'influence': True, 'struggling': True, 'strive': True, 'maintain': True, 'economic': True, 'hold': True, 'country': True, 'vast': True, 'natural': True, 'resources': True, 'copper': True, 'diamonds': True, 'gold': True, 'seek': True, 'help': True, 'us': True, 'knowing': True, 'would': True, 'try': True, 'create': True, 'de': True, 'facto': True, 'american': True, 'control': True, 'fledgling': True, 'initial': True, 'investigation': True, 'soviet': True, 'assistance': True, 'immediately': True, 'tags': True, 'communist': True, 'integrity': True, 'overshadowed': True, 'cold': True, 'war': True, 'threat': True, 'russian': True, 'domination': True, 'situation': True, 'goes': True, 'bad': True, 'worse': True, 'army': True, 'mutinies': True, 'remaining': True, 'whites': True, 'begin': True, 'evacuate': True, 'arm': True, 'violently': True, 'intervene': True, 'lucrative': True, 'katanga': True, 'province': True, 'succeeds': True, 'rival': True, 'moise': True, 'tschombe': True, 'nzonzi': True, 'refused': True, 'access': True, 'returns': True, 'conference': True, 'abroad': True, 'tumultuous': True, 'period': True, 'modern': True, 'history': True, 'saw': True, 'score': True, 'nations': True, 'sometimes': True, 'odious': True, 'colonialists': True, 'ruled': True, 'much': True, 'european': True, 'seats': True, 'power': True, 'centuries': True, 'focuses': True, 'familiar': True, 'material': True, 'strives': True, 'give': True, 'honest': True, 'portrayal': True, 'friend': True, 'foes': True, 'movements': True, 'gripped': True, 'africa': True, '50': True, '60': True, 'takes': True, 'many': True, 'including': True, 'nigeria': True, 'somalia': True, 'born': True, 'varying': True, 'degrees': True, 'success': True, 'failure': True, 'usually': True, 'dependent': True, 'upon': True, 'colonized': True, 'better': True, 'others': True, 'effort': True, 'involved': True, 'quite': True, 'ambitious': True, 'crew': True, 'behind': True, 'camera': True, 'bring': True, 'life': True, 'slice': True, 'might': True, 'gone': True, 'unexplored': True, 'decades': True, 'production': True, 'values': True, 'rate': True, 'must': True, 'standards': True, 'budget': True, 'feel': True, 'realistic': True, 'settings': True, 'nicely': True, 'maintained': True, 'traveled': True, 'zimbabwe': True, 'mozambique': True, 'screenplay': True, 'covers': True, 'lot': True, 'ground': True, 'yeoman': True, 'work': True, 'providing': True, 'great': True, 'deal': True, 'detailed': True, 'trying': True, 'justice': True, 'side': True, 'things': True, 'evenly': True, 'linear': True, 'straightforward': True, 'manner': True, 'teaches': True, 'preaches': True, 'concentrates': True, 'good': True, 'deeds': True, 'bit': True, 'stalwart': True, 'saint': True, 'embellish': True, 'larger': True, 'persona': True, 'family': True, 'handled': True, 'several': True, 'perfunctory': True, 'brief': True, 'interludes': True, 'show': True, 'talking': True, 'one': True, 'children': True, 'embracing': True, 'wife': True, 'lamenting': True, 'child': True, 'know': True, 'intent': True, 'flesh': True, 'short': True, 'shrift': True, 'given': True, 'lopsided': True, 'high': True, 'marks': True, 'go': True, 'title': True, 'character': True, 'actor': True, 'gives': True, 'convincing': True, 'charismatic': True, 'performance': True, 'multifaceted': True, 'politically': True, 'deft': True, 'people': True, 'force': True, 'driving': True, 'ambitions': True, 'docudrama': True, 'tradition': True, 'cast': True, 'outshine': True, 'star': True, 'complementing': True, 'efforts': True, 'instead': True, 'solid': True, 'interesting': True, 'educational': True, 'appeal': True, 'film': True, 'buffs': True, 'politicos': True, 'intelligence': True, 'telling': True, 'anything': True, 'seen': True, 'hollywood': True, 'b': True}, 'pos')\n"
          ]
        }
      ]
    },
    {
      "cell_type": "code",
      "source": [
        "from nltk.classify import NaiveBayesClassifier"
      ],
      "metadata": {
        "id": "bTCRiO7DzGi2"
      },
      "execution_count": 40,
      "outputs": []
    },
    {
      "cell_type": "code",
      "source": [
        "split=800"
      ],
      "metadata": {
        "id": "Wi2ylge-zK0V"
      },
      "execution_count": 41,
      "outputs": []
    },
    {
      "cell_type": "code",
      "source": [
        "sentiment_classifier=NaiveBayesClassifier.train(positive_features[:split]+negative_features[:split])"
      ],
      "metadata": {
        "id": "hR0InZqtzTZH"
      },
      "execution_count": 42,
      "outputs": []
    },
    {
      "cell_type": "markdown",
      "source": [
        "**Testing Dataset**"
      ],
      "metadata": {
        "id": "BfPO0bNq1IFj"
      }
    },
    {
      "cell_type": "code",
      "source": [
        "nltk.classify.util.accuracy(sentiment_classifier, positive_features[split:]+negative_features[split:])* 100"
      ],
      "metadata": {
        "colab": {
          "base_uri": "https://localhost:8080/"
        },
        "id": "QNzpgKwP094V",
        "outputId": "c6af4605-caf1-4174-df91-073a03dd7a5c"
      },
      "execution_count": 44,
      "outputs": [
        {
          "output_type": "execute_result",
          "data": {
            "text/plain": [
              "98.75"
            ]
          },
          "metadata": {},
          "execution_count": 44
        }
      ]
    },
    {
      "cell_type": "markdown",
      "source": [
        "**We get up to 98% accuracy in the test dataset**"
      ],
      "metadata": {
        "id": "f5bHY0il1PTl"
      }
    }
  ]
}